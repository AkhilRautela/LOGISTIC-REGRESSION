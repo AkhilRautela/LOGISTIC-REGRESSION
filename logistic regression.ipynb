{
 "cells": [
  {
   "cell_type": "code",
   "execution_count": 1,
   "metadata": {},
   "outputs": [
    {
     "name": "stderr",
     "output_type": "stream",
     "text": [
      "Using TensorFlow backend.\n"
     ]
    }
   ],
   "source": [
    "import numpy as np\n",
    "from keras.models import Sequential\n",
    "from keras.layers import Dense,Flatten\n",
    "import tensorflow\n",
    "import matplotlib.pyplot as plt"
   ]
  },
  {
   "cell_type": "code",
   "execution_count": 2,
   "metadata": {},
   "outputs": [
    {
     "name": "stdout",
     "output_type": "stream",
     "text": [
      "WARNING:tensorflow:From C:\\Users\\akhil\\Anaconda3\\lib\\site-packages\\keras\\backend\\tensorflow_backend.py:74: The name tf.get_default_graph is deprecated. Please use tf.compat.v1.get_default_graph instead.\n",
      "\n"
     ]
    }
   ],
   "source": [
    "model=Sequential()"
   ]
  },
  {
   "cell_type": "code",
   "execution_count": 3,
   "metadata": {},
   "outputs": [
    {
     "data": {
      "text/plain": [
       "array([[ 28.85107553,  29.51320379,  21.04011499,  30.04369167,\n",
       "         30.59193688,  24.73137555,  28.48998106,  31.76152826,\n",
       "         25.53073495,  31.72400077,  30.38666344,  30.28935787,\n",
       "         26.63047507,  32.28599056,  24.08978973,  27.36372161,\n",
       "         24.285334  ,  27.49304114,  25.97458859,  31.7981223 ,\n",
       "         35.04913877,  35.60166401,  29.9064167 ,  26.49379088,\n",
       "         27.96622465,  35.63614748,  36.19979845,  31.79776311,\n",
       "         28.67437405,  37.27247358,  31.33511522,  36.3938114 ,\n",
       "         31.35695239,  29.94942405,  37.09243711,  34.31199124,\n",
       "         39.08017815,  31.14765843,  39.40973241,  40.0100599 ,\n",
       "         33.34171066,  31.90777095,  33.52363237,  41.09754405,\n",
       "         32.64496385,  38.0067131 ,  39.5662468 ,  40.63099734,\n",
       "         41.29999104,  37.41485218,  40.91934892,  41.37654885,\n",
       "         35.70592644,  37.59797968,  36.05057531,  38.69115212,\n",
       "         41.11269445,  36.3536184 ,  43.56846097,  44.36136923,\n",
       "         44.51708386,  36.37649708,  44.68448538,  39.72453516,\n",
       "         45.07945035,  39.12017584,  40.80591286,  40.77059944,\n",
       "         46.07962184,  42.29521776,  41.18565015,  39.0340775 ,\n",
       "         42.46516089,  48.31516684,  49.60982496,  40.69171146,\n",
       "         40.46684477,  41.31949937,  46.76209173,  49.11138974,\n",
       "         48.88262232,  43.69067786,  51.86106078,  44.21799375,\n",
       "         50.53619919,  46.15860634,  46.70143467,  53.12066701,\n",
       "         50.39778254,  47.64379453,  48.47429038,  45.34621174,\n",
       "         45.42620699,  52.47167714,  48.28353466,  53.78758286,\n",
       "         47.58929066,  48.29743923,  52.25668488,  53.84873975,\n",
       "         46.83101177,  48.22700639,  47.92154306,  48.45286983,\n",
       "         52.90859611,  51.94985292,  57.62406494,  55.79974971,\n",
       "         51.67513062,  57.40486048,  59.1487326 ,  52.27571325,\n",
       "         55.8054716 ,  56.35962906,  51.21474999,  51.62756254,\n",
       "         55.22524348,  60.93244303,  52.08533909,  59.94976383,\n",
       "         54.22893559,  52.80281806,  53.22025735,  56.94145957,\n",
       "         55.39994143,  57.06671872,  55.70782438,  58.20395726,\n",
       "         57.2865609 ,  56.93773945,  59.97597889,  56.22424824,\n",
       "         58.42489763,  63.01503006,  64.66796699,  56.80361489,\n",
       "         56.72596689,  62.47467643,  66.77613446,  62.0302582 ,\n",
       "         60.18203684,  61.77052966,  63.57974872,  59.07868511,\n",
       "         61.02425665,  58.98189154,  60.24144628,  67.14721785,\n",
       "         63.45651034,  68.84066666,  69.32634701,  66.42739545,\n",
       "         69.28795444,  66.89681709,  67.99424247,  70.1194566 ,\n",
       "         70.0102408 ,  71.76024849,  70.96594681,  68.34037334,\n",
       "         69.22807111,  68.71126178,  67.71550703,  69.27673087,\n",
       "         68.21864575,  67.99020612,  64.68591289,  65.10323909,\n",
       "         67.60871348,  68.10829745,  72.14422243,  71.45670271,\n",
       "         74.4225928 ,  69.26722017,  67.238259  ,  67.19307812,\n",
       "         70.36355477,  73.73970945,  70.2935755 ,  72.6389832 ,\n",
       "         74.85410139,  75.15078982,  69.8614648 ,  77.4256815 ,\n",
       "         78.08970255,  73.11243944,  73.85441888,  71.63762843,\n",
       "         76.247302  ,  77.60397582,  74.25705849,  71.14550104,\n",
       "         72.16578694,  76.48349421,  73.53816917,  80.07148934,\n",
       "         80.34259785,  82.04056845,  81.18724213,  77.91228963,\n",
       "         76.61084971,  83.51680837,  81.41480647,  80.66707926,\n",
       "         77.01706783,  80.96478968,  83.17369493,  75.50093279,\n",
       "         82.71403653,  78.23505031,  83.0881073 ,  82.68713359,\n",
       "         78.64015071,  78.48410226,  79.85860234,  79.83693151,\n",
       "         78.35254994,  87.1896925 ,  87.57629792,  84.5410444 ,\n",
       "         84.7465885 ,  86.11083916,  87.21106342,  80.87751078,\n",
       "         89.14209179,  82.3468169 ,  87.73323037,  88.80483168,\n",
       "         87.74572714,  88.53861121,  86.74474202,  89.70112139,\n",
       "         83.17382528,  88.34353948,  89.11695462,  90.60145558,\n",
       "         92.52499107,  88.96965239,  93.33256899,  92.23883986,\n",
       "         91.85010483,  90.57880537,  91.24608548,  90.04358559,\n",
       "         91.59477393,  85.77219914,  90.83492238,  94.2917589 ,\n",
       "         87.9003126 ,  93.82450579,  96.79250961,  96.09831499,\n",
       "         93.5053149 ,  95.17634894,  89.54742264,  96.36310712,\n",
       "         93.68178094,  92.68664787,  92.55707402,  89.55708968,\n",
       "         93.09056285,  92.14250995,  92.41872603,  90.73562131,\n",
       "         96.80807371,  99.36566255,  96.94038971,  91.48202752,\n",
       "        100.00425292,  97.78901972,  99.59501744,  95.12558512,\n",
       "         99.46032862, 102.77210348,  94.59009849,  98.45230264,\n",
       "         94.42796912, 103.5855935 ,  99.35241863,  97.03786477,\n",
       "        100.15953729,  98.5924162 , 102.31278928,  98.30777464,\n",
       "        102.55689131,  97.86593047, 103.79269598, 101.07726839,\n",
       "         99.86980979, 104.23935796,  97.99137025, 106.50387265,\n",
       "        105.42328333,  99.16059991, 107.51365455, 102.38501341,\n",
       "        101.44490181, 106.15566503, 104.48865492, 106.23338174]])"
      ]
     },
     "execution_count": 3,
     "metadata": {},
     "output_type": "execute_result"
    }
   ],
   "source": [
    "a=np.linspace(20,100,300)+np.random.rand(1,300)*10\n",
    "a"
   ]
  },
  {
   "cell_type": "code",
   "execution_count": 4,
   "metadata": {},
   "outputs": [],
   "source": [
    "b=np.ones((1,150))\n",
    "c=np.zeros((1,150))\n"
   ]
  },
  {
   "cell_type": "code",
   "execution_count": 5,
   "metadata": {},
   "outputs": [],
   "source": [
    "d=np.append(c,b)\n"
   ]
  },
  {
   "cell_type": "code",
   "execution_count": 6,
   "metadata": {},
   "outputs": [
    {
     "data": {
      "text/plain": [
       "[<matplotlib.lines.Line2D at 0x1f0e89dd080>]"
      ]
     },
     "execution_count": 6,
     "metadata": {},
     "output_type": "execute_result"
    },
    {
     "data": {
      "image/png": "[encoded data removed]",
      "text/plain": [
       "<Figure size 432x288 with 1 Axes>"
      ]
     },
     "metadata": {
      "needs_background": "light"
     },
     "output_type": "display_data"
    }
   ],
   "source": [
    "d=d.reshape(300,1)\n",
    "a=a.reshape(300,1)\n",
    "plt.plot(a,d,'bo')"
   ]
  },
  {
   "cell_type": "code",
   "execution_count": 7,
   "metadata": {},
   "outputs": [],
   "source": [
    "model.add(Dense(1,activation='tanh'))"
   ]
  },
  {
   "cell_type": "code",
   "execution_count": 8,
   "metadata": {},
   "outputs": [
    {
     "name": "stdout",
     "output_type": "stream",
     "text": [
      "WARNING:tensorflow:From C:\\Users\\akhil\\Anaconda3\\lib\\site-packages\\keras\\optimizers.py:790: The name tf.train.Optimizer is deprecated. Please use tf.compat.v1.train.Optimizer instead.\n",
      "\n"
     ]
    }
   ],
   "source": [
    "model.compile('adam',loss='mean_squared_error')"
   ]
  },
  {
   "cell_type": "code",
   "execution_count": 9,
   "metadata": {},
   "outputs": [
    {
     "name": "stdout",
     "output_type": "stream",
     "text": [
      "WARNING:tensorflow:From C:\\Users\\akhil\\Anaconda3\\lib\\site-packages\\keras\\backend\\tensorflow_backend.py:517: The name tf.placeholder is deprecated. Please use tf.compat.v1.placeholder instead.\n",
      "\n",
      "WARNING:tensorflow:From C:\\Users\\akhil\\Anaconda3\\lib\\site-packages\\keras\\backend\\tensorflow_backend.py:4138: The name tf.random_uniform is deprecated. Please use tf.random.uniform instead.\n",
      "\n",
      "WARNING:tensorflow:From C:\\Users\\akhil\\Anaconda3\\lib\\site-packages\\keras\\backend\\tensorflow_backend.py:986: The name tf.assign_add is deprecated. Please use tf.compat.v1.assign_add instead.\n",
      "\n",
      "WARNING:tensorflow:From C:\\Users\\akhil\\Anaconda3\\lib\\site-packages\\keras\\backend\\tensorflow_backend.py:973: The name tf.assign is deprecated. Please use tf.compat.v1.assign instead.\n",
      "\n",
      "Epoch 1/10\n",
      "300/300 [==============================] - 1s 2ms/step - loss: 2.5000\n",
      "Epoch 2/10\n",
      "300/300 [==============================] - 0s 73us/step - loss: 2.5000\n",
      "Epoch 3/10\n",
      "300/300 [==============================] - 0s 70us/step - loss: 2.5000\n",
      "Epoch 4/10\n",
      "300/300 [==============================] - 0s 73us/step - loss: 2.5000\n",
      "Epoch 5/10\n",
      "300/300 [==============================] - 0s 73us/step - loss: 2.5000\n",
      "Epoch 6/10\n",
      "300/300 [==============================] - 0s 80us/step - loss: 2.5000\n",
      "Epoch 7/10\n",
      "300/300 [==============================] - 0s 77us/step - loss: 2.5000\n",
      "Epoch 8/10\n",
      "300/300 [==============================] - 0s 87us/step - loss: 2.5000\n",
      "Epoch 9/10\n",
      "300/300 [==============================] - 0s 83us/step - loss: 2.5000\n",
      "Epoch 10/10\n",
      "300/300 [==============================] - 0s 80us/step - loss: 2.5000\n"
     ]
    },
    {
     "data": {
      "text/plain": [
       "<keras.callbacks.History at 0x1f0e8a120f0>"
      ]
     },
     "execution_count": 9,
     "metadata": {},
     "output_type": "execute_result"
    }
   ],
   "source": [
    "model.fit(a,d,epochs=10)"
   ]
  },
  {
   "cell_type": "code",
   "execution_count": 10,
   "metadata": {},
   "outputs": [
    {
     "name": "stdout",
     "output_type": "stream",
     "text": [
      "_________________________________________________________________\n",
      "Layer (type)                 Output Shape              Param #   \n",
      "=================================================================\n",
      "dense_1 (Dense)              (None, 1)                 2         \n",
      "=================================================================\n",
      "Total params: 2\n",
      "Trainable params: 2\n",
      "Non-trainable params: 0\n",
      "_________________________________________________________________\n"
     ]
    }
   ],
   "source": [
    "model.summary()"
   ]
  },
  {
   "cell_type": "code",
   "execution_count": 11,
   "metadata": {},
   "outputs": [
    {
     "data": {
      "text/plain": [
       "[<matplotlib.lines.Line2D at 0x1f0e9d06240>]"
      ]
     },
     "execution_count": 11,
     "metadata": {},
     "output_type": "execute_result"
    },
    {
     "data": {
      "image/png": "[encoded data removed]",
      "text/plain": [
       "<Figure size 432x288 with 1 Axes>"
      ]
     },
     "metadata": {
      "needs_background": "light"
     },
     "output_type": "display_data"
    }
   ],
   "source": [
    "plt.plot(a,model.predict(a),'b')"
   ]
  },
  {
   "cell_type": "code",
   "execution_count": 12,
   "metadata": {},
   "outputs": [],
   "source": [
    "from sklearn.linear_model import LogisticRegression "
   ]
  },
  {
   "cell_type": "code",
   "execution_count": 13,
   "metadata": {},
   "outputs": [],
   "source": [
    "mod=LogisticRegression()"
   ]
  },
  {
   "cell_type": "code",
   "execution_count": 14,
   "metadata": {},
   "outputs": [
    {
     "name": "stderr",
     "output_type": "stream",
     "text": [
      "C:\\Users\\akhil\\Anaconda3\\lib\\site-packages\\sklearn\\linear_model\\logistic.py:432: FutureWarning: Default solver will be changed to 'lbfgs' in 0.22. Specify a solver to silence this warning.\n",
      "  FutureWarning)\n",
      "C:\\Users\\akhil\\Anaconda3\\lib\\site-packages\\sklearn\\utils\\validation.py:724: DataConversionWarning: A column-vector y was passed when a 1d array was expected. Please change the shape of y to (n_samples, ), for example using ravel().\n",
      "  y = column_or_1d(y, warn=True)\n"
     ]
    },
    {
     "data": {
      "text/plain": [
       "LogisticRegression(C=1.0, class_weight=None, dual=False, fit_intercept=True,\n",
       "                   intercept_scaling=1, l1_ratio=None, max_iter=100,\n",
       "                   multi_class='warn', n_jobs=None, penalty='l2',\n",
       "                   random_state=None, solver='warn', tol=0.0001, verbose=0,\n",
       "                   warm_start=False)"
      ]
     },
     "execution_count": 14,
     "metadata": {},
     "output_type": "execute_result"
    }
   ],
   "source": [
    "mod.fit(a,d)"
   ]
  },
  {
   "cell_type": "code",
   "execution_count": 15,
   "metadata": {},
   "outputs": [
    {
     "data": {
      "text/plain": [
       "[<matplotlib.lines.Line2D at 0x1f0eab2ab70>]"
      ]
     },
     "execution_count": 15,
     "metadata": {},
     "output_type": "execute_result"
    },
    {
     "data": {
      "image/png": "[encoded data removed]",
      "text/plain": [
       "<Figure size 432x288 with 1 Axes>"
      ]
     },
     "metadata": {
      "needs_background": "light"
     },
     "output_type": "display_data"
    }
   ],
   "source": [
    "plt.plot(a,mod.predict(a),'b')"
   ]
  },
  {
   "cell_type": "code",
   "execution_count": 16,
   "metadata": {},
   "outputs": [
    {
     "data": {
      "text/plain": [
       "array([[0.11210989]])"
      ]
     },
     "execution_count": 16,
     "metadata": {},
     "output_type": "execute_result"
    }
   ],
   "source": [
    "mod.coef_"
   ]
  },
  {
   "cell_type": "code",
   "execution_count": 17,
   "metadata": {},
   "outputs": [
    {
     "data": {
      "text/plain": [
       "array([-7.04677963])"
      ]
     },
     "execution_count": 17,
     "metadata": {},
     "output_type": "execute_result"
    }
   ],
   "source": [
    "mod.intercept_"
   ]
  },
  {
   "cell_type": "code",
   "execution_count": null,
   "metadata": {},
   "outputs": [],
   "source": []
  },
  {
   "cell_type": "code",
   "execution_count": null,
   "metadata": {},
   "outputs": [],
   "source": []
  }
 ],
 "metadata": {
  "kernelspec": {
   "display_name": "Python 3",
   "language": "python",
   "name": "python3"
  },
  "language_info": {
   "codemirror_mode": {
    "name": "ipython",
    "version": 3
   },
   "file_extension": ".py",
   "mimetype": "text/x-python",
   "name": "python",
   "nbconvert_exporter": "python",
   "pygments_lexer": "ipython3",
   "version": "3.7.3"
  }
 },
 "nbformat": 4,
 "nbformat_minor": 2
}
